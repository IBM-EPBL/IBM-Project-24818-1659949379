{
  "nbformat": 4,
  "nbformat_minor": 0,
  "metadata": {
    "colab": {
      "provenance": []
    },
    "kernelspec": {
      "name": "python3",
      "display_name": "Python 3"
    },
    "language_info": {
      "name": "python"
    }
  },
  "cells": [
    {
      "cell_type": "markdown",
      "source": [
        "1.Split the string"
      ],
      "metadata": {
        "id": "IzOxsimzhgM1"
      }
    },
    {
      "cell_type": "code",
      "source": [
        "s=\"hi there sam!\"\n",
        "print(s.split())"
      ],
      "metadata": {
        "colab": {
          "base_uri": "https://localhost:8080/"
        },
        "id": "y0bq37wOhlCP",
        "outputId": "4cbf6a2f-e76e-4c20-8726-52b87baaf464"
      },
      "execution_count": 1,
      "outputs": [
        {
          "output_type": "stream",
          "name": "stdout",
          "text": [
            "['hi', 'there', 'sam!']\n"
          ]
        }
      ]
    },
    {
      "cell_type": "markdown",
      "source": [
        "2.Use .format() to print the following string"
      ],
      "metadata": {
        "id": "lST0hBLuhqod"
      }
    },
    {
      "cell_type": "code",
      "source": [
        "planet=\"Earth\"\n",
        "diameter=12742\n",
        "star =\"The diameter of {p} is {k} Kilometers.\"\n",
        "print(star.format(p=planet,k=diameter))"
      ],
      "metadata": {
        "colab": {
          "base_uri": "https://localhost:8080/"
        },
        "id": "ZN3zgQ4xhw6d",
        "outputId": "72c846ea-7585-4916-d4df-959ef1c961e2"
      },
      "execution_count": null,
      "outputs": [
        {
          "output_type": "stream",
          "name": "stdout",
          "text": [
            "The diameter of Earth is 12742 Kilometers.\n"
          ]
        }
      ]
    },
    {
      "cell_type": "markdown",
      "source": [
        "3.In this nest dictionary grab the word \"hello\""
      ],
      "metadata": {
        "id": "um9f2v33iVyo"
      }
    },
    {
      "cell_type": "code",
      "source": [
        "d = {'k1':[1,2,3,{'tricky':['oh','man','inception',{'target':[1,2,3,'hello']}]}]}\n",
        "d['k1'][3]['tricky'][3]['target'][3]"
      ],
      "metadata": {
        "colab": {
          "base_uri": "https://localhost:8080/",
          "height": 35
        },
        "id": "G32NIcPPigGk",
        "outputId": "d3f969ea-6d67-4058-e6c7-0ad9c5a89bb8"
      },
      "execution_count": null,
      "outputs": [
        {
          "output_type": "execute_result",
          "data": {
            "text/plain": [
              "'hello'"
            ],
            "application/vnd.google.colaboratory.intrinsic+json": {
              "type": "string"
            }
          },
          "metadata": {},
          "execution_count": 4
        }
      ]
    },
    {
      "cell_type": "markdown",
      "source": [
        "4.Numpy"
      ],
      "metadata": {
        "id": "yGKtGpWxirwC"
      }
    },
    {
      "cell_type": "code",
      "source": [
        "import numpy as np "
      ],
      "metadata": {
        "id": "yPUZqKOiiuU5"
      },
      "execution_count": null,
      "outputs": []
    },
    {
      "cell_type": "markdown",
      "source": [
        "4.1 Create an array of 10 zeros?"
      ],
      "metadata": {
        "id": "UELa8v8xi8n9"
      }
    },
    {
      "cell_type": "code",
      "source": [
        "array=np.zeros(10)\n",
        "print(\"An array of 10 zeros\")\n",
        "print(array)\n"
      ],
      "metadata": {
        "colab": {
          "base_uri": "https://localhost:8080/"
        },
        "id": "09U0bLPki-7m",
        "outputId": "d48a5298-d9db-4dbf-dc6a-bf439840dbe1"
      },
      "execution_count": null,
      "outputs": [
        {
          "output_type": "stream",
          "name": "stdout",
          "text": [
            "An array of 10 zeros\n",
            "[0. 0. 0. 0. 0. 0. 0. 0. 0. 0.]\n"
          ]
        }
      ]
    },
    {
      "cell_type": "markdown",
      "source": [
        "4.2 Create an array of 10 fives?"
      ],
      "metadata": {
        "id": "1RQzRwNjjIP-"
      }
    },
    {
      "cell_type": "code",
      "source": [
        "\n",
        "array=np.ones(10)*5\n",
        "print(\"An array of 10 fives\")\n",
        "print(array)"
      ],
      "metadata": {
        "colab": {
          "base_uri": "https://localhost:8080/"
        },
        "id": "TwIYoLavjJNv",
        "outputId": "4653bad1-492a-48d7-88af-56430dda29b3"
      },
      "execution_count": null,
      "outputs": [
        {
          "output_type": "stream",
          "name": "stdout",
          "text": [
            "An array of 10 fives\n",
            "[5. 5. 5. 5. 5. 5. 5. 5. 5. 5.]\n"
          ]
        }
      ]
    },
    {
      "cell_type": "markdown",
      "source": [
        "5.Create an array of all the even integers from 20 to 35"
      ],
      "metadata": {
        "id": "GFMzQcS0jO_U"
      }
    },
    {
      "cell_type": "code",
      "source": [
        "a=np.arange(20,35,2)\n",
        "print(a)"
      ],
      "metadata": {
        "colab": {
          "base_uri": "https://localhost:8080/"
        },
        "id": "uDvFklNbjRH-",
        "outputId": "30a4a0b7-cd89-42f8-be75-6e63e1435e6c"
      },
      "execution_count": null,
      "outputs": [
        {
          "output_type": "stream",
          "name": "stdout",
          "text": [
            "[20 22 24 26 28 30 32 34]\n"
          ]
        }
      ]
    },
    {
      "cell_type": "markdown",
      "source": [
        "6.Create a 3x3 matrix with values ranging from 0 to 8"
      ],
      "metadata": {
        "id": "h8HD9cInjVgd"
      }
    },
    {
      "cell_type": "code",
      "source": [
        "x=np.arange(0,9).reshape(3,3)\n",
        "print(x)"
      ],
      "metadata": {
        "colab": {
          "base_uri": "https://localhost:8080/"
        },
        "id": "ZUvHvspXjbhm",
        "outputId": "1c9dbd6e-0e14-4c06-937e-d198354fe391"
      },
      "execution_count": null,
      "outputs": [
        {
          "output_type": "stream",
          "name": "stdout",
          "text": [
            "[[0 1 2]\n",
            " [3 4 5]\n",
            " [6 7 8]]\n"
          ]
        }
      ]
    },
    {
      "cell_type": "markdown",
      "source": [
        "7.\n",
        "Concatenate a and b\n",
        "a = np.array([1, 2, 3]), b = np.array([4, 5, 6])\n"
      ],
      "metadata": {
        "id": "1BHmRjPIjfUo"
      }
    },
    {
      "cell_type": "code",
      "source": [
        "\n",
        "a=np.array([1,2,3])\n",
        "b=np.array([4,5,6])\n",
        "print(a)\n",
        "print(b)"
      ],
      "metadata": {
        "colab": {
          "base_uri": "https://localhost:8080/"
        },
        "id": "d7uqNPpmjoJV",
        "outputId": "eafe743a-2498-4258-f078-4bb23667c7e3"
      },
      "execution_count": null,
      "outputs": [
        {
          "output_type": "stream",
          "name": "stdout",
          "text": [
            "[1 2 3]\n",
            "[4 5 6]\n"
          ]
        }
      ]
    },
    {
      "cell_type": "markdown",
      "source": [
        "Pandas"
      ],
      "metadata": {
        "id": "_UwOuj1GjuDS"
      }
    },
    {
      "cell_type": "code",
      "source": [
        "import pandas as pd"
      ],
      "metadata": {
        "id": "Xo3asTH_jxm0"
      },
      "execution_count": null,
      "outputs": []
    },
    {
      "cell_type": "markdown",
      "source": [
        "8.Create a dataframe with 3 rows and 2 columns"
      ],
      "metadata": {
        "id": "X3UPTB7Rj1Ub"
      }
    },
    {
      "cell_type": "code",
      "source": [
        "data=[['vamsi',10],['mahesh',20],['sai',30]]\n",
        "a=pd.DataFrame(data,columns=['Name','Age',])\n",
        "print(a)\n"
      ],
      "metadata": {
        "colab": {
          "base_uri": "https://localhost:8080/"
        },
        "id": "5KRoUrZnj5ai",
        "outputId": "ccb7eafe-c45a-4c5c-ba20-4fcfd1f8ea82"
      },
      "execution_count": null,
      "outputs": [
        {
          "output_type": "stream",
          "name": "stdout",
          "text": [
            "     Name  Age\n",
            "0   vamsi   10\n",
            "1  mahesh   20\n",
            "2     sai   30\n"
          ]
        }
      ]
    },
    {
      "cell_type": "markdown",
      "source": [
        "9.Generate the series of dates from 1st Jan, 2023 to 10th Feb, 2023"
      ],
      "metadata": {
        "id": "cSxPFlnCkMS6"
      }
    },
    {
      "cell_type": "code",
      "source": [
        "from datetime import datetime, timedelta\n",
        "\n",
        "def date_range(start, end):\n",
        "    delta = end - start  # as timedelta\n",
        "    days = [start + timedelta(days=i) for i in range(delta.days + 1)]\n",
        "    return days\n",
        "\n",
        "start_date = datetime(2023, 1, 1)\n",
        "end_date = datetime(2023, 2, 10)\n",
        "print(*date_range(start_date, end_date))"
      ],
      "metadata": {
        "colab": {
          "base_uri": "https://localhost:8080/"
        },
        "id": "dwLvA9HCkOFO",
        "outputId": "57db552f-f04c-4ade-ba0d-77dd0c3e7b24"
      },
      "execution_count": null,
      "outputs": [
        {
          "output_type": "stream",
          "name": "stdout",
          "text": [
            "2023-01-01 00:00:00 2023-01-02 00:00:00 2023-01-03 00:00:00 2023-01-04 00:00:00 2023-01-05 00:00:00 2023-01-06 00:00:00 2023-01-07 00:00:00 2023-01-08 00:00:00 2023-01-09 00:00:00 2023-01-10 00:00:00 2023-01-11 00:00:00 2023-01-12 00:00:00 2023-01-13 00:00:00 2023-01-14 00:00:00 2023-01-15 00:00:00 2023-01-16 00:00:00 2023-01-17 00:00:00 2023-01-18 00:00:00 2023-01-19 00:00:00 2023-01-20 00:00:00 2023-01-21 00:00:00 2023-01-22 00:00:00 2023-01-23 00:00:00 2023-01-24 00:00:00 2023-01-25 00:00:00 2023-01-26 00:00:00 2023-01-27 00:00:00 2023-01-28 00:00:00 2023-01-29 00:00:00 2023-01-30 00:00:00 2023-01-31 00:00:00 2023-02-01 00:00:00 2023-02-02 00:00:00 2023-02-03 00:00:00 2023-02-04 00:00:00 2023-02-05 00:00:00 2023-02-06 00:00:00 2023-02-07 00:00:00 2023-02-08 00:00:00 2023-02-09 00:00:00 2023-02-10 00:00:00\n"
          ]
        }
      ]
    },
    {
      "cell_type": "markdown",
      "source": [
        "10.Create 2D list to DataFrame"
      ],
      "metadata": {
        "id": "gaT8O9fWkUEi"
      }
    },
    {
      "cell_type": "code",
      "source": [
        "lists = [[1, 'aaa', 22], [2, 'bbb', 25], [3, 'ccc', 24]]\n",
        "\n",
        "lists = [[1, 'aaa', 22], [2, 'bbb', 25], [3, 'ccc', 24]]\n",
        "df=pd.DataFrame(lists,columns=['Number','FName','Age'])\n",
        "print(df)\n"
      ],
      "metadata": {
        "colab": {
          "base_uri": "https://localhost:8080/"
        },
        "id": "VrcF1KYLkVt5",
        "outputId": "8a3165ea-6b4d-4297-fca0-0bdc645276a6"
      },
      "execution_count": null,
      "outputs": [
        {
          "output_type": "stream",
          "name": "stdout",
          "text": [
            "   Number FName  Age\n",
            "0       1   aaa   22\n",
            "1       2   bbb   25\n",
            "2       3   ccc   24\n"
          ]
        }
      ]
    }
  ]
}